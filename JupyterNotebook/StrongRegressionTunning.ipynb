{
 "cells": [
  {
   "cell_type": "code",
   "execution_count": null,
   "id": "91eefad0-5686-434e-bba7-a4bada57dcb4",
   "metadata": {},
   "outputs": [],
   "source": [
    "#Tunning Strong Regression\n",
    "\n",
    "import pandas as pd\n",
    "import matplotlib.pyplot as pt\n",
    "from ImportData import tuning_reg_data\n",
    "from sklearn.ensemble import RandomForestRegressor\n",
    "from sklearn.model_selection import RandomizedSearchCV\n",
    "\n",
    "\n",
    "def display(param, score, index):\n",
    "    print('Best Param:', param)\n",
    "    print('Best Score:', score)\n",
    "    print('Best Index', index)\n",
    "\n",
    "\n",
    "\n",
    "#Get data\n",
    "x_train, y_train = tuning_reg_data(strong=True)\n",
    "\n",
    "\n",
    "\n",
    "#Train and valid\n",
    "# n_estimator = [50, 100, 200, 300,..., 3000]\n",
    "# max_feature, min_samples_split = [0.05, 0.1, 0.15, 0.2, 0.25, 0.3, 0.35, 0.4, 0.45, 0.5, 0.55, 0.6, 0.65, 0.7, 0.75, 0.8, 0.85, 0.9, 0.95, 1.0]\n",
    "# min_samples_leaf, min_weight_fraction_leaf = [0.025 ,0.05, 0.075, 0.1, 0.125, 0.15, 0.175, 0.2, 0.225, 0.25, 0.275, 0.3, 0.325, 0.35, 0.375, 0.4, 0.425, 0.45, 0.475, 0.5]\n",
    "# max_depth = [100, 200,..., 1000, 1200, 1400,..., 3000,3500, 4000,..., 8000, None] ,1100,1200,1300,1400,1500,1600,1700,1800,1900,2000,2100,2200,2300,2400,2500,2600,2700,2800,2900,3000\n",
    "# max_depth2 = [500, 525, 550, 575, 600, 625, 650, 675, 700, 725, 750, 775, 800, 825, 850, 900, 950]\n",
    "tunning_param = {'n_estimators': [100,200,300,400,500,600,700,800,900,1000,1100,1200,1300,1400,1500,1600,1700,1800,1900,2000,2100,2200,2300,2400,2500,2600,2700,2800,2900,3000,3100,3200,3300,3400,3500],                \n",
    "                 'max_features': [0.05, 0.1, 0.15, 0.2, 0.25, 0.3, 0.35, 0.4, 0.45, 0.5, 0.55, 0.6, 0.65, 0.7, 0.75, 0.8, 0.85, 0.9, 0.95, 1.0],\n",
    "                 'min_samples_split': [0.05, 0.1, 0.15, 0.2, 0.25, 0.3, 0.35, 0.4, 0.45, 0.5, 0.55, 0.6, 0.65, 0.7, 0.75, 0.8, 0.85, 0.9, 0.95, 1.0],\n",
    "                 'max_samples': [0.05, 0.1, 0.15, 0.2, 0.25, 0.3, 0.35, 0.4, 0.45, 0.5, 0.55, 0.6, 0.65, 0.7, 0.75, 0.8, 0.85, 0.9, 0.95, 1.0],\n",
    "                 'min_samples_leaf': [0.025 ,0.05, 0.075, 0.1, 0.125, 0.15, 0.175, 0.2, 0.225, 0.25, 0.275, 0.3, 0.325, 0.35, 0.375, 0.4, 0.425, 0.45, 0.475, 0.5],\n",
    "                 'min_weight_fraction_leaf': [0.025 ,0.05, 0.075, 0.1, 0.125, 0.15, 0.175, 0.2, 0.225, 0.25, 0.275, 0.3, 0.325, 0.35, 0.375, 0.4, 0.425, 0.45, 0.475, 0.5],\n",
    "                 'random_state': [1]}\n",
    "\n",
    "\n",
    "scores = ['r2', 'neg_root_mean_squared_error', 'neg_mean_absolute_error']\n",
    "\n",
    "model = RandomForestRegressor()\n",
    "print('Start')\n",
    "search = RandomizedSearchCV(estimator=model,\n",
    "                            param_distributions = tunning_param,\n",
    "                            n_iter = 100,\n",
    "                            scoring=scores,\n",
    "                            refit='r2',\n",
    "                            cv=10,\n",
    "                            random_state=10)\n",
    "search.fit(x_train, y_train)\n",
    "\n",
    "display(search.best_params_, search.best_score_, search.best_index_)\n",
    "\n",
    "\n",
    "out = pd.DataFrame(data=search.cv_results_)\n",
    "out.to_excel('Tunning/regression/strong/random_search.xlsx')"
   ]
  }
 ],
 "metadata": {
  "environment": {
   "kernel": "python3",
   "name": "common-cpu.m108",
   "type": "gcloud",
   "uri": "gcr.io/deeplearning-platform-release/base-cpu:m108"
  },
  "kernelspec": {
   "display_name": "Python 3",
   "language": "python",
   "name": "python3"
  },
  "language_info": {
   "codemirror_mode": {
    "name": "ipython",
    "version": 3
   },
   "file_extension": ".py",
   "mimetype": "text/x-python",
   "name": "python",
   "nbconvert_exporter": "python",
   "pygments_lexer": "ipython3",
   "version": "3.7.12"
  }
 },
 "nbformat": 4,
 "nbformat_minor": 5
}
